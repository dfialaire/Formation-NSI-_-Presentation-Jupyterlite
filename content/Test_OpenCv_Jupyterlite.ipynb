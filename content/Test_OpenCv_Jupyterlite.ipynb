{
 "cells": [
  {
   "cell_type": "markdown",
   "id": "bf80053f",
   "metadata": {},
   "source": [
    "<h1> Jupyterlite and OpenCv</h1>"
   ]
  },
  {
   "cell_type": "code",
   "execution_count": null,
   "id": "224647a9",
   "metadata": {},
   "outputs": [],
   "source": [
    "%pip install opencv-python"
   ]
  },
  {
   "cell_type": "code",
   "execution_count": null,
   "id": "05122d09",
   "metadata": {},
   "outputs": [],
   "source": [
    "%pip install -q ipywidgets"
   ]
  },
  {
   "cell_type": "code",
   "execution_count": null,
   "id": "fca2efb3",
   "metadata": {},
   "outputs": [],
   "source": [
    "import cv2\n",
    "import matplotlib\n",
    "from matplotlib.pyplot import *"
   ]
  },
  {
   "cell_type": "markdown",
   "id": "94560db2",
   "metadata": {},
   "source": [
    "<h2><u>1) Reading image with OpenCv</u> : work</h2>"
   ]
  },
  {
   "cell_type": "code",
   "execution_count": null,
   "id": "855fde88",
   "metadata": {
    "scrolled": false
   },
   "outputs": [],
   "source": [
    "img1 = cv2.imread(\"ER2NB.jpg\")\n",
    "imshow(img1)\n",
    "axis(\"off\")\n",
    "show()"
   ]
  },
  {
   "cell_type": "markdown",
   "id": "9dc7c878",
   "metadata": {},
   "source": [
    "<h2><u>1) Transforming image with OpenCv</u> : work</h2>"
   ]
  },
  {
   "cell_type": "code",
   "execution_count": null,
   "id": "06622bbf",
   "metadata": {},
   "outputs": [],
   "source": [
    "image_inv = cv2.bitwise_not(img1)\n",
    "imshow(image_inv)\n",
    "axis(\"off\")\n",
    "show()"
   ]
  },
  {
   "cell_type": "markdown",
   "id": "c32b34fd",
   "metadata": {},
   "source": [
    "<h2><u>3) Reading webcam with OpenCv</u> : <span style='color:red'>doesn't work..</span></h2>"
   ]
  },
  {
   "cell_type": "code",
   "execution_count": null,
   "id": "31017ad3",
   "metadata": {},
   "outputs": [],
   "source": [
    "vid = cv2.VideoCapture(0)\n",
    "while(True):\n",
    "    ret, frame = vid.read()\n",
    "    cv2.imshow('frame : Click q to Exit..', frame)\n",
    "    if cv2.waitKey(1) & 0xFF == ord('q'):\n",
    "        break\n",
    "vid.release()\n",
    "cv2.destroyAllWindows()"
   ]
  },
  {
   "cell_type": "markdown",
   "id": "6531d63a",
   "metadata": {},
   "source": [
    "<h2><u>3) Reading webcam with Ipywidget CameraStream</u> : <span style='color:red'></span></h2>"
   ]
  },
  {
   "cell_type": "code",
   "execution_count": 1,
   "id": "46040ace",
   "metadata": {},
   "outputs": [],
   "source": [
    "from ipywidgets import *\n",
    "from ipywebrtc import CameraStream, ImageRecorder"
   ]
  },
  {
   "cell_type": "code",
   "execution_count": 3,
   "id": "53f9f210",
   "metadata": {},
   "outputs": [],
   "source": [
    "##################\n",
    "def arrete_tout(_):\n",
    "    Widget.close_all()\n",
    "########################################"
   ]
  },
  {
   "cell_type": "code",
   "execution_count": 4,
   "id": "0642a5d7",
   "metadata": {},
   "outputs": [
    {
     "data": {
      "application/vnd.jupyter.widget-view+json": {
       "model_id": "",
       "version_major": 2,
       "version_minor": 0
      },
      "text/plain": [
       "HBox(children=(CameraStream(constraints={'facingMode': {'exact': 'environment'}, 'audio': False, 'video': {'wi…"
      ]
     },
     "metadata": {},
     "output_type": "display_data"
    }
   ],
   "source": [
    "camera = CameraStream(constraints={'facingMode': {\"exact\": \"environment\"},'audio': False,'video': { 'width': 640, 'height': 480}})\n",
    "image_recorder = ImageRecorder(stream=camera, tooltip='Cliqk to get a Capture')\n",
    "btn_stop = Button(description=\"To stop\",tooltip='Capture Ok ?',button_style='success', icon=\"eye\")\n",
    "btn_stop.on_click(arrete_tout)\n",
    "\n",
    "yo=HBox([camera,VBox([btn_stop,image_recorder])], layout=Layout(max_width='100%',display='inline-flex',flex_flow='row wrap'))\n",
    "\n",
    "display(yo)"
   ]
  },
  {
   "cell_type": "code",
   "execution_count": null,
   "id": "75deaaa4",
   "metadata": {},
   "outputs": [],
   "source": []
  }
 ],
 "metadata": {
  "kernelspec": {
   "display_name": "Python 3 (ipykernel)",
   "language": "python",
   "name": "python3"
  },
  "language_info": {
   "codemirror_mode": {
    "name": "ipython",
    "version": 3
   },
   "file_extension": ".py",
   "mimetype": "text/x-python",
   "name": "python",
   "nbconvert_exporter": "python",
   "pygments_lexer": "ipython3",
   "version": "3.9.13"
  }
 },
 "nbformat": 4,
 "nbformat_minor": 5
}

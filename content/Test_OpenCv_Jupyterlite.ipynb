{
 "cells": [
  {
   "cell_type": "markdown",
   "id": "9f6a0cc5",
   "metadata": {},
   "source": [
    "<h1> Jupyterlite and OpenCv</h1>"
   ]
  },
  {
   "cell_type": "code",
   "execution_count": null,
   "id": "60229705",
   "metadata": {},
   "outputs": [],
   "source": [
    "%pip install opencv-python"
   ]
  },
  {
   "cell_type": "code",
   "execution_count": null,
   "id": "b48280a6",
   "metadata": {},
   "outputs": [],
   "source": [
    "%pip install -q ipywidgets"
   ]
  },
  {
   "cell_type": "code",
   "execution_count": null,
   "id": "eb9aece2",
   "metadata": {},
   "outputs": [],
   "source": [
    "%pip install -q ipywebrtc"
   ]
  },
  {
   "cell_type": "code",
   "execution_count": null,
   "id": "c0e66206",
   "metadata": {},
   "outputs": [],
   "source": [
    "import cv2\n",
    "import matplotlib\n",
    "from matplotlib.pyplot import *"
   ]
  },
  {
   "cell_type": "markdown",
   "id": "b01113e7",
   "metadata": {},
   "source": [
    "<h2><u>1) Reading image with OpenCv</u> : work</h2>"
   ]
  },
  {
   "cell_type": "code",
   "execution_count": null,
   "id": "c14564a9",
   "metadata": {
    "scrolled": false
   },
   "outputs": [],
   "source": [
    "img1 = cv2.imread(\"ER2NB.jpg\")\n",
    "imshow(img1)\n",
    "axis(\"off\")\n",
    "show()"
   ]
  },
  {
   "cell_type": "markdown",
   "id": "c1aa8e8f",
   "metadata": {},
   "source": [
    "<h2><u>1) Transforming image with OpenCv</u> : work</h2>"
   ]
  },
  {
   "cell_type": "code",
   "execution_count": null,
   "id": "7ba918d9",
   "metadata": {},
   "outputs": [],
   "source": [
    "image_inv = cv2.bitwise_not(img1)\n",
    "imshow(image_inv)\n",
    "axis(\"off\")\n",
    "show()"
   ]
  },
  {
   "cell_type": "markdown",
   "id": "0ec6be80",
   "metadata": {},
   "source": [
    "<h2><u>3) Reading webcam with OpenCv</u> : <span style='color:red'>doesn't work..</span></h2>"
   ]
  },
  {
   "cell_type": "code",
   "execution_count": null,
   "id": "cba4e50a",
   "metadata": {},
   "outputs": [],
   "source": [
    "vid = cv2.VideoCapture(0)\n",
    "while(True):\n",
    "    ret, frame = vid.read()\n",
    "    cv2.imshow('frame : Click q to Exit..', frame)\n",
    "    if cv2.waitKey(1) & 0xFF == ord('q'):\n",
    "        break\n",
    "vid.release()\n",
    "cv2.destroyAllWindows()"
   ]
  },
  {
   "cell_type": "markdown",
   "id": "061cb117",
   "metadata": {},
   "source": [
    "<h2><u>3) Reading webcam with Ipywidget CameraStream</u> <span style='color:green'>Work</span></h2>\n",
    "<h2><u>4) Recording webcam image with Ipywidget ImageRecorder</u> <span style='color:orange'>don't Work..?</span></h2>"
   ]
  },
  {
   "cell_type": "code",
   "execution_count": 1,
   "id": "f359b0ad",
   "metadata": {},
   "outputs": [],
   "source": [
    "from ipywidgets import *\n",
    "from ipywebrtc import CameraStream, ImageRecorder"
   ]
  },
  {
   "cell_type": "code",
   "execution_count": 3,
   "id": "6ff43ffe",
   "metadata": {},
   "outputs": [],
   "source": [
    "##################\n",
    "def arrete_tout(_):\n",
    "    Widget.close_all()\n",
    "########################################"
   ]
  },
  {
   "cell_type": "code",
   "execution_count": 4,
   "id": "a26c3056",
   "metadata": {},
   "outputs": [
    {
     "data": {
      "application/vnd.jupyter.widget-view+json": {
       "model_id": "",
       "version_major": 2,
       "version_minor": 0
      },
      "text/plain": [
       "HBox(children=(CameraStream(constraints={'facingMode': {'exact': 'environment'}, 'audio': False, 'video': {'wi…"
      ]
     },
     "metadata": {},
     "output_type": "display_data"
    }
   ],
   "source": [
    "camera = CameraStream(constraints={'facingMode': {\"exact\": \"environment\"},'audio': False,'video': { 'width': 640, 'height': 480}})\n",
    "image_recorder = ImageRecorder(stream=camera, tooltip='Cliqk to get a Capture')\n",
    "btn_stop = Button(description=\"To stop\",tooltip='Capture Ok ?',button_style='success', icon=\"eye\")\n",
    "btn_stop.on_click(arrete_tout)\n",
    "\n",
    "yo=HBox([camera,VBox([btn_stop,image_recorder])], layout=Layout(max_width='100%',display='inline-flex',flex_flow='row wrap'))\n",
    "\n",
    "display(yo)"
   ]
  },
  {
   "cell_type": "markdown",
   "id": "8952e6b5",
   "metadata": {},
   "source": [
    "<h1><span style='color:Blue'>Comments :</span></h1><br>\n",
    "So it is possible to stream a webcam with jupyterlite & Ipywidgets.. but why the ImageRecorder doesn't work.. don't know.<br><br>\n",
    "So why Opencv can't open a VideoCapture in jupyterlite ?"
   ]
  },
  {
   "cell_type": "code",
   "execution_count": null,
   "id": "94786a61",
   "metadata": {},
   "outputs": [],
   "source": []
  }
 ],
 "metadata": {
  "kernelspec": {
   "display_name": "Python 3 (ipykernel)",
   "language": "python",
   "name": "python3"
  },
  "language_info": {
   "codemirror_mode": {
    "name": "ipython",
    "version": 3
   },
   "file_extension": ".py",
   "mimetype": "text/x-python",
   "name": "python",
   "nbconvert_exporter": "python",
   "pygments_lexer": "ipython3",
   "version": "3.9.13"
  }
 },
 "nbformat": 4,
 "nbformat_minor": 5
}

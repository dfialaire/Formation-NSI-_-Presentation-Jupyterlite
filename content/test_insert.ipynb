{
 "cells": [
  {
   "cell_type": "code",
   "execution_count": 1,
   "id": "2c73cbcc",
   "metadata": {},
   "outputs": [],
   "source": [
    "\n",
    "from ipywidgets import *\n",
    "\n",
    "##########\n",
    "from IPython.display import display, clear_output, IFrame, YouTubeVideo\n"
   ]
  },
  {
   "cell_type": "code",
   "execution_count": 2,
   "id": "abbc150a",
   "metadata": {},
   "outputs": [
    {
     "data": {
      "application/vnd.jupyter.widget-view+json": {
       "model_id": "655967717bc242ec825e373fb62fa581",
       "version_major": 2,
       "version_minor": 0
      },
      "text/plain": [
       "Output(layout=Layout(border='1px solid black'))"
      ]
     },
     "metadata": {},
     "output_type": "display_data"
    }
   ],
   "source": [
    "\n",
    "\n",
    "#########\n",
    "def stop_site(_):\n",
    "    out_site.layout.display = \"none\"\n",
    "#     Mode_w.value=\"---\"\n",
    "btn_exit_site = Button(description=\"Enlever la page Iris\",tooltip=\"Cliquer pour enlever la page internet Iris\",button_style='primary')\n",
    "btn_exit_site.on_click(stop_site)\n",
    "############\n",
    "Site_Iris=IFrame(src='https://biotech-online.pagesperso-orange.fr/Soutien%20TP/Iris.htm', width='100%', height='500px')\n",
    "out_site = widgets.Output(layout={'border': '1px solid black'})\n",
    "display(out_site)\n",
    "\n",
    "#########\n",
    "############\n",
    "with out_site:\n",
    "    display(Site_Iris)\n",
    "    display(btn_exit_site)\n",
    "# out_site.layout.display = \"none\"  #.layout.visibility = 'hidden'\n",
    "#########################################"
   ]
  },
  {
   "cell_type": "code",
   "execution_count": null,
   "id": "f907772d",
   "metadata": {},
   "outputs": [],
   "source": []
  }
 ],
 "metadata": {
  "kernelspec": {
   "display_name": "Python 3 (ipykernel)",
   "language": "python",
   "name": "python3"
  },
  "language_info": {
   "codemirror_mode": {
    "name": "ipython",
    "version": 3
   },
   "file_extension": ".py",
   "mimetype": "text/x-python",
   "name": "python",
   "nbconvert_exporter": "python",
   "pygments_lexer": "ipython3",
   "version": "3.9.13"
  }
 },
 "nbformat": 4,
 "nbformat_minor": 5
}
